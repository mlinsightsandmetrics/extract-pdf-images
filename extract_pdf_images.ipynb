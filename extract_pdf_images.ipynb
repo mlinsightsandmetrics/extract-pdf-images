{
 "cells": [
  {
   "cell_type": "markdown",
   "id": "b8f90a9d",
   "metadata": {},
   "source": [
    "## Automatically Extract Images from PDFs"
   ]
  },
  {
   "cell_type": "markdown",
   "id": "5fb25171",
   "metadata": {},
   "source": [
    "### Import required libraries"
   ]
  },
  {
   "cell_type": "code",
   "execution_count": 2,
   "id": "af7f25ee",
   "metadata": {},
   "outputs": [],
   "source": [
    "import pdfminer\n",
    "from pdfminer.image import ImageWriter \n",
    "from pdfminer.high_level import extract_pages\n"
   ]
  },
  {
   "cell_type": "markdown",
   "id": "d284966e",
   "metadata": {},
   "source": [
    "### Helper functions"
   ]
  },
  {
   "cell_type": "code",
   "execution_count": 3,
   "id": "a1d03bcf",
   "metadata": {},
   "outputs": [],
   "source": [
    "def get_image(layout_object):\n",
    "    if isinstance(layout_object, pdfminer.layout.LTImage):\n",
    "        return layout_object\n",
    "    if isinstance(layout_object, pdfminer.layout.LTContainer):\n",
    "        for child in layout_object:\n",
    "            return get_image(child)\n",
    "    else:\n",
    "        return None\n",
    "\n",
    "\n",
    "def save_images_from_page(page: pdfminer.layout.LTPage):\n",
    "    images = list(filter(bool, map(get_image, page)))\n",
    "    iw = ImageWriter('output_dir')\n",
    "    for image in images:\n",
    "        iw.export_image(image)"
   ]
  },
  {
   "cell_type": "markdown",
   "id": "cc84747c",
   "metadata": {},
   "source": [
    "### Get pages"
   ]
  },
  {
   "cell_type": "code",
   "execution_count": 6,
   "id": "dadf0107",
   "metadata": {},
   "outputs": [],
   "source": [
    "pages = list(extract_pages('pdfs/29116098_PMC5676784.pdf'))"
   ]
  },
  {
   "cell_type": "markdown",
   "id": "8053a7cf",
   "metadata": {},
   "source": [
    "### Save images"
   ]
  },
  {
   "cell_type": "code",
   "execution_count": 7,
   "id": "99a03b68",
   "metadata": {},
   "outputs": [],
   "source": [
    "for p in range(len(pages)):\n",
    "    page = pages[p]\n",
    "    save_images_from_page(page)"
   ]
  },
  {
   "cell_type": "code",
   "execution_count": null,
   "id": "c54f30ba",
   "metadata": {},
   "outputs": [],
   "source": []
  }
 ],
 "metadata": {
  "kernelspec": {
   "display_name": "Python 3",
   "language": "python",
   "name": "python3"
  },
  "language_info": {
   "codemirror_mode": {
    "name": "ipython",
    "version": 3
   },
   "file_extension": ".py",
   "mimetype": "text/x-python",
   "name": "python",
   "nbconvert_exporter": "python",
   "pygments_lexer": "ipython3",
   "version": "3.6.13"
  }
 },
 "nbformat": 4,
 "nbformat_minor": 5
}
